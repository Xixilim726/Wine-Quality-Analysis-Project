{
 "cells": [
  {
   "cell_type": "code",
   "execution_count": 15,
   "metadata": {},
   "outputs": [],
   "source": [
    "import csv\n",
    "import numpy as np\n",
    "\n",
    "label = []\n",
    "i = 1\n",
    "with open('winequality-red.csv') as f_red:\n",
    "    red_reader = csv.reader(f_red)\n",
    "    for row in red_reader:\n",
    "        if i < 2:\n",
    "            i += 1\n",
    "            label.append(row)\n",
    "        else:\n",
    "            break\n",
    "    data_red = np.loadtxt(f_red,delimiter = \",\", skiprows = 1)\n",
    "    \n",
    "\n",
    "\n",
    "with open('winequality-white.csv') as f_white:\n",
    "    data_white = np.loadtxt(f_white,delimiter = \",\", skiprows = 1)\n",
    "np.shape(data_red)\n",
    "row_red = np.shape(data_red)[0]\n",
    "row_white = np.shape(data_white)[0]\n",
    "col = np.shape(data_red)[1]\n",
    "data = np.zeros([row_red+row_white, col])\n",
    "data[:row_red,] = data_red\n",
    "data[row_red:,] = data_white\n",
    "flag_red = []\n",
    "for i in range(np.shape(data_red)[0]):\n",
    "    flag_red.append(0)"
   ]
  },
  {
   "cell_type": "markdown",
   "metadata": {},
   "source": [
    "The array 'data' is the combination of data for red wine and white wine."
   ]
  },
  {
   "cell_type": "code",
   "execution_count": 11,
   "metadata": {},
   "outputs": [],
   "source": [
    "np.shape(data_white)\n",
    "flag_white = []\n",
    "for i in range(np.shape(data_white)[0]):\n",
    "    flag_white.append(1)\n",
    "flag = flag_red + flag_white\n",
    "flag = np.array(flag)"
   ]
  },
  {
   "cell_type": "markdown",
   "metadata": {},
   "source": [
    "The flag 0 is red wine and the flag 1 is white wine"
   ]
  },
  {
   "cell_type": "code",
   "execution_count": 12,
   "metadata": {},
   "outputs": [
    {
     "name": "stdout",
     "output_type": "stream",
     "text": [
      "[0]\ttrain-auc:0.967425\n",
      "[1]\ttrain-auc:0.982715\n",
      "[2]\ttrain-auc:0.992875\n",
      "[3]\ttrain-auc:0.995697\n",
      "[4]\ttrain-auc:0.995492\n",
      "[5]\ttrain-auc:0.996115\n",
      "[6]\ttrain-auc:0.996566\n",
      "[7]\ttrain-auc:0.996712\n",
      "[8]\ttrain-auc:0.996686\n",
      "[9]\ttrain-auc:0.996636\n",
      "[10]\ttrain-auc:0.996755\n",
      "[11]\ttrain-auc:0.996761\n",
      "[12]\ttrain-auc:0.996776\n",
      "[13]\ttrain-auc:0.996816\n",
      "[14]\ttrain-auc:0.99675\n",
      "[15]\ttrain-auc:0.997067\n",
      "[16]\ttrain-auc:0.997026\n",
      "[17]\ttrain-auc:0.997058\n",
      "[18]\ttrain-auc:0.997031\n",
      "[19]\ttrain-auc:0.997095\n",
      "[20]\ttrain-auc:0.997101\n",
      "[21]\ttrain-auc:0.997122\n",
      "[22]\ttrain-auc:0.997114\n",
      "[23]\ttrain-auc:0.997148\n",
      "[24]\ttrain-auc:0.997153\n",
      "[25]\ttrain-auc:0.997129\n",
      "[26]\ttrain-auc:0.997111\n",
      "[27]\ttrain-auc:0.997105\n",
      "[28]\ttrain-auc:0.997084\n",
      "[29]\ttrain-auc:0.997052\n",
      "[30]\ttrain-auc:0.997058\n",
      "[31]\ttrain-auc:0.997116\n",
      "[32]\ttrain-auc:0.997088\n",
      "[33]\ttrain-auc:0.997086\n",
      "[34]\ttrain-auc:0.997111\n",
      "[35]\ttrain-auc:0.997118\n",
      "[36]\ttrain-auc:0.997106\n",
      "[37]\ttrain-auc:0.9971\n",
      "[38]\ttrain-auc:0.997113\n",
      "[39]\ttrain-auc:0.997119\n",
      "[40]\ttrain-auc:0.997191\n",
      "[41]\ttrain-auc:0.997167\n",
      "[42]\ttrain-auc:0.997165\n",
      "[43]\ttrain-auc:0.997145\n",
      "[44]\ttrain-auc:0.99712\n",
      "[45]\ttrain-auc:0.997128\n",
      "[46]\ttrain-auc:0.997131\n",
      "[47]\ttrain-auc:0.997129\n",
      "[48]\ttrain-auc:0.997144\n",
      "[49]\ttrain-auc:0.997164\n",
      "AUC: 0.9988\n",
      "ACC: 0.9938\n",
      "Recall: 0.9984\n",
      "F1-score: 0.9960\n",
      "Precesion: 0.9935\n"
     ]
    },
    {
     "data": {
      "text/plain": [
       "<matplotlib.axes._subplots.AxesSubplot at 0x1a1f967908>"
      ]
     },
     "execution_count": 12,
     "metadata": {},
     "output_type": "execute_result"
    },
    {
     "name": "stderr",
     "output_type": "stream",
     "text": [
      "/Users/chenhaofeng/anaconda3/lib/python3.7/site-packages/matplotlib/font_manager.py:1331: UserWarning: findfont: Font family ['sans-serif'] not found. Falling back to DejaVu Sans\n",
      "  (prop.get_family(), self.defaultFamily[fontext]))\n"
     ]
    },
    {
     "data": {
      "image/png": "[encoded data removed]",
      "text/plain": [
       "<Figure size 432x288 with 1 Axes>"
      ]
     },
     "metadata": {
      "needs_background": "light"
     },
     "output_type": "display_data"
    }
   ],
   "source": [
    "#X is features and y is flag\n",
    "X = data[: ,:11]\n",
    "y = flag\n",
    "\n",
    "# Establish train and test sample\n",
    "from sklearn.cross_validation import train_test_split\n",
    "train_x, test_x, train_y, test_y = train_test_split(X, y, random_state=0)\n",
    "\n",
    "import xgboost as xgb\n",
    "dtrain=xgb.DMatrix(train_x,label=train_y)\n",
    "dtest=xgb.DMatrix(test_x)\n",
    " \n",
    "#booster:\n",
    "params={'booster':'gbtree',\n",
    "        'objective': 'binary:logistic',\n",
    "        'eval_metric': 'auc',\n",
    "        'max_depth':7,\n",
    "        'lambda':15,\n",
    "        'subsample':0.75,\n",
    "        'colsample_bytree':0.75,\n",
    "        'min_child_weight':1,\n",
    "        'eta': 0.025,\n",
    "        'seed':0,\n",
    "        'nthread':8,\n",
    "        'silent':1,\n",
    "        'gamma':0.15,\n",
    "        'learning_rate' : 0.01}\n",
    " \n",
    "watchlist = [(dtrain,'train')]\n",
    " \n",
    "\n",
    "bst=xgb.train(params,dtrain,num_boost_round=50,evals=watchlist)\n",
    "ypred=bst.predict(dtest)\n",
    " \n",
    "\n",
    "y_pred = (ypred >= 0.5)*1\n",
    "from sklearn import metrics\n",
    "print ('AUC: %.4f' % metrics.roc_auc_score(test_y,ypred))\n",
    "print ('ACC: %.4f' % metrics.accuracy_score(test_y,y_pred))\n",
    "print ('Recall: %.4f' % metrics.recall_score(test_y,y_pred))\n",
    "print ('F1-score: %.4f' %metrics.f1_score(test_y,y_pred))\n",
    "print ('Precesion: %.4f' %metrics.precision_score(test_y,y_pred))\n",
    "metrics.confusion_matrix(test_y,y_pred)\n",
    " \n",
    " \n",
    "from pylab import mpl\n",
    "mpl.rcParams['font.sans-serif'] = ['SimHei']  \n",
    "xgb.plot_importance(bst)\n",
    "\n"
   ]
  },
  {
   "cell_type": "code",
   "execution_count": 20,
   "metadata": {},
   "outputs": [
    {
     "name": "stdout",
     "output_type": "stream",
     "text": [
      "['fixed_acidity', 'volatile_acidity', 'citric_acid', 'residual_sugar', 'chlorides', 'free_sulfur_dioxide', 'total_sulfur_dioxide', 'density', 'pH', 'sulphates', 'alcohol', 'quality']\n"
     ]
    }
   ],
   "source": [
    "label = label[-1]\n",
    "print(label)"
   ]
  },
  {
   "cell_type": "markdown",
   "metadata": {},
   "source": [
    "The label is the features used for classification"
   ]
  },
  {
   "cell_type": "markdown",
   "metadata": {},
   "source": [
    "Use XGBoost method to train a classifier for red wine and white wine. WIthout adjusting parameters. It could get a percision 99% for test data. And form the importance plot we could find that the 5 important variable for classification is total_sulfur_dioxide, chlorides, volatile_acidity, sulphates and density."
   ]
  }
 ],
 "metadata": {
  "kernelspec": {
   "display_name": "Python 3",
   "language": "python",
   "name": "python3"
  },
  "language_info": {
   "codemirror_mode": {
    "name": "ipython",
    "version": 3
   },
   "file_extension": ".py",
   "mimetype": "text/x-python",
   "name": "python",
   "nbconvert_exporter": "python",
   "pygments_lexer": "ipython3",
   "version": "3.7.0"
  }
 },
 "nbformat": 4,
 "nbformat_minor": 2
}
